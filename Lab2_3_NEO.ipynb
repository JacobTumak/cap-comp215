{
  "nbformat": 4,
  "nbformat_minor": 0,
  "metadata": {
    "colab": {
      "provenance": [],
      "include_colab_link": true
    },
    "kernelspec": {
      "name": "python3",
      "language": "python",
      "display_name": "Python 3 (ipykernel)"
    },
    "language_info": {
      "name": "python"
    }
  },
  "cells": [
    {
      "cell_type": "markdown",
      "metadata": {
        "id": "view-in-github",
        "colab_type": "text"
      },
      "source": [
        "<a href=\"https://colab.research.google.com/github/JacobTumak/cap-comp215/blob/main/Lab2_3_NEO.ipynb\" target=\"_parent\"><img src=\"https://colab.research.google.com/assets/colab-badge.svg\" alt=\"Open In Colab\"/></a>"
      ]
    },
    {
      "cell_type": "markdown",
      "source": [
        "COMP 215 - LAB 2 (NEO)\n",
        "----------------\n",
        "#### Name: Jacob Tumak\n",
        "#### Date: 2023-04-08\n",
        "\n",
        "This lab exercise is mostly a review of strings, tuples, lists, dictionaries, and functions.\n",
        "\n",
        "**Building on new concepts from lab 1**:\n",
        "  * `datetime.date` objects represent a calendar date\n",
        "  * *list comprehension* provides a compact way to represent map and filter algorithms\n",
        "\n",
        "**New Python Concepts**:\n",
        "  * *f-string* simplifies string formatting operations\n",
        "\n",
        "As usual, the first code cell simply imports all the modules we'll be using..."
      ],
      "metadata": {
        "id": "nbRPZPKZU5Pk"
      }
    },
    {
      "cell_type": "code",
      "execution_count": 1,
      "outputs": [],
      "source": [
        "import datetime, json, requests\n",
        "from pprint import pprint    # Pretty Print - built-in python function to nicely format data structures"
      ],
      "metadata": {
        "pycharm": {
          "name": "#%%\n"
        },
        "id": "b10lO3KIwED9"
      }
    },
    {
      "cell_type": "markdown",
      "source": [
        "We'll answer some questions about [Near Earth Objects](https://cneos.jpl.nasa.gov/)\n",
        "> using NASA's API:  [https://api.nasa.gov/](https://api.nasa.gov/#NeoWS)\n",
        "\n",
        "You should register for your own API key, (but may use the DEMO_KEY to get started).\n",
        "\n",
        "First we need a short tutorial on python dates and [f-strings](https://realpython.com/python-f-strings/)..."
      ],
      "metadata": {
        "collapsed": false,
        "pycharm": {
          "name": "#%% md\n"
        },
        "id": "CiM2T2dDwED-"
      }
    },
    {
      "cell_type": "code",
      "execution_count": 2,
      "outputs": [
        {
          "output_type": "stream",
          "name": "stdout",
          "text": [
            "2023-04-13 <class 'datetime.date'>\n",
            "Today is: 2023-04-13\n"
          ]
        }
      ],
      "source": [
        "today = datetime.date.today()   # get a date object representing today's date\n",
        "print(today, type(today))\n",
        "formatted_date = f'Today is: {today}'   # A format string - notice how the variable `today` is formatted into the stringg\n",
        "print(formatted_date)"
      ],
      "metadata": {
        "pycharm": {
          "name": "#%%\n"
        },
        "id": "nQbHRimnwED-",
        "outputId": "e44690cb-5165-41a0-cee1-6771e0e12294",
        "colab": {
          "base_uri": "https://localhost:8080/"
        }
      }
    },
    {
      "cell_type": "markdown",
      "source": [
        "### Make a query\n",
        "\n",
        "Let's get some data from the NEO database...\n",
        "Here's a query that gets the observation \"feed\" for today.\n",
        "(Note: I hard-coded the date below to lock down the data for the lab - ideally used `today()` so the notebook is always up-to-date.)"
      ],
      "metadata": {
        "collapsed": false,
        "pycharm": {
          "name": "#%% md\n"
        },
        "id": "3bs6KoMhwED_"
      }
    },
    {
      "cell_type": "code",
      "execution_count": 3,
      "outputs": [
        {
          "output_type": "stream",
          "name": "stdout",
          "text": [
            "12 Near Earth Objects found for 2023-01-09\n",
            "[{'absolute_magnitude_h': 19.64,\n",
            "  'close_approach_data': [{'close_approach_date': '2023-01-09',\n",
            "                           'close_approach_date_full': '2023-Jan-09 13:59',\n",
            "                           'epoch_date_close_approach': 1673272740000,\n",
            "                           'miss_distance': {'astronomical': '0.0725378004',\n",
            "                                             'kilometers': '10851500.434325148',\n",
            "                                             'lunar': '28.2172043556',\n",
            "                                             'miles': '6742809.7016491224'},\n",
            "                           'orbiting_body': 'Earth',\n",
            "                           'relative_velocity': {'kilometers_per_hour': '32387.333793389',\n",
            "                                                 'kilometers_per_second': '8.9964816093',\n",
            "                                                 'miles_per_hour': '20124.2297117866'}}],\n",
            "  'estimated_diameter': {'feet': {'estimated_diameter_max': 2301.5744618737,\n",
            "                                  'estimated_diameter_min': 1029.2953904054},\n",
            "                         'kilometers': {'estimated_diameter_max': 0.7015198735,\n",
            "                                        'estimated_diameter_min': 0.313729225},\n",
            "                         'meters': {'estimated_diameter_max': 701.5198735305,\n",
            "                                    'estimated_diameter_min': 313.7292249562},\n",
            "                         'miles': {'estimated_diameter_max': 0.4359041053,\n",
            "                                   'estimated_diameter_min': 0.1949422422}},\n",
            "  'id': '2226554',\n",
            "  'is_potentially_hazardous_asteroid': True,\n",
            "  'is_sentry_object': False,\n",
            "  'links': {'self': 'http://api.nasa.gov/neo/rest/v1/neo/2226554?api_key=DEMO_KEY'},\n",
            "  'name': '226554 (2003 WR21)',\n",
            "  'nasa_jpl_url': 'http://ssd.jpl.nasa.gov/sbdb.cgi?sstr=2226554',\n",
            "  'neo_reference_id': '2226554'},\n",
            " {'absolute_magnitude_h': 20.64,\n",
            "  'close_approach_data': [{'close_approach_date': '2023-01-09',\n",
            "                           'close_approach_date_full': '2023-Jan-09 16:33',\n",
            "                           'epoch_date_close_approach': 1673281980000,\n",
            "                           'miss_distance': {'astronomical': '0.2884780076',\n",
            "                                             'kilometers': '43155695.478803812',\n",
            "                                             'lunar': '112.2179449564',\n",
            "                                             'miles': '26815705.7097321256'},\n",
            "                           'orbiting_body': 'Earth',\n",
            "                           'relative_velocity': {'kilometers_per_hour': '30014.4408140756',\n",
            "                                                 'kilometers_per_second': '8.3373446706',\n",
            "                                                 'miles_per_hour': '18649.8062936127'}}],\n",
            "  'estimated_diameter': {'feet': {'estimated_diameter_max': 1452.1953105872,\n",
            "                                  'estimated_diameter_min': 649.4414862159},\n",
            "                         'kilometers': {'estimated_diameter_max': 0.4426291165,\n",
            "                                        'estimated_diameter_min': 0.1979497587},\n",
            "                         'meters': {'estimated_diameter_max': 442.6291165029,\n",
            "                                    'estimated_diameter_min': 197.9497586642},\n",
            "                         'miles': {'estimated_diameter_max': 0.2750368968,\n",
            "                                   'estimated_diameter_min': 0.1230002395}},\n",
            "  'id': '2307070',\n",
            "  'is_potentially_hazardous_asteroid': False,\n",
            "  'is_sentry_object': False,\n",
            "  'links': {'self': 'http://api.nasa.gov/neo/rest/v1/neo/2307070?api_key=DEMO_KEY'},\n",
            "  'name': '307070 (2002 AV31)',\n",
            "  'nasa_jpl_url': 'http://ssd.jpl.nasa.gov/sbdb.cgi?sstr=2307070',\n",
            "  'neo_reference_id': '2307070'},\n",
            " {'absolute_magnitude_h': 18.39,\n",
            "  'close_approach_data': [{'close_approach_date': '2023-01-09',\n",
            "                           'close_approach_date_full': '2023-Jan-09 01:00',\n",
            "                           'epoch_date_close_approach': 1673226000000,\n",
            "                           'miss_distance': {'astronomical': '0.3628966736',\n",
            "                                             'kilometers': '54288569.400645232',\n",
            "                                             'lunar': '141.1668060304',\n",
            "                                             'miles': '33733352.7892069216'},\n",
            "                           'orbiting_body': 'Earth',\n",
            "                           'relative_velocity': {'kilometers_per_hour': '88002.0997277573',\n",
            "                                                 'kilometers_per_second': '24.4450277022',\n",
            "                                                 'miles_per_hour': '54681.0824669501'}}],\n",
            "  'estimated_diameter': {'feet': {'estimated_diameter_max': 4092.8424762213,\n",
            "                                  'estimated_diameter_min': 1830.3747996059},\n",
            "                         'kilometers': {'estimated_diameter_max': 1.2474983468,\n",
            "                                        'estimated_diameter_min': 0.5578982211},\n",
            "                         'meters': {'estimated_diameter_max': 1247.4983468323,\n",
            "                                    'estimated_diameter_min': 557.8982210671},\n",
            "                         'miles': {'estimated_diameter_max': 0.7751592953,\n",
            "                                   'estimated_diameter_min': 0.3466617755}},\n",
            "  'id': '2436325',\n",
            "  'is_potentially_hazardous_asteroid': False,\n",
            "  'is_sentry_object': False,\n",
            "  'links': {'self': 'http://api.nasa.gov/neo/rest/v1/neo/2436325?api_key=DEMO_KEY'},\n",
            "  'name': '436325 (2010 GR7)',\n",
            "  'nasa_jpl_url': 'http://ssd.jpl.nasa.gov/sbdb.cgi?sstr=2436325',\n",
            "  'neo_reference_id': '2436325'},\n",
            " {'absolute_magnitude_h': 20.94,\n",
            "  'close_approach_data': [{'close_approach_date': '2023-01-09',\n",
            "                           'close_approach_date_full': '2023-Jan-09 03:25',\n",
            "                           'epoch_date_close_approach': 1673234700000,\n",
            "                           'miss_distance': {'astronomical': '0.1211166399',\n",
            "                                             'kilometers': '18118791.350597013',\n",
            "                                             'lunar': '47.1143729211',\n",
            "                                             'miles': '11258494.8819162594'},\n",
            "                           'orbiting_body': 'Earth',\n",
            "                           'relative_velocity': {'kilometers_per_hour': '22658.3665761987',\n",
            "                                                 'kilometers_per_second': '6.2939907156',\n",
            "                                                 'miles_per_hour': '14079.0278317497'}}],\n",
            "  'estimated_diameter': {'feet': {'estimated_diameter_max': 1264.8092410264,\n",
            "                                  'estimated_diameter_min': 565.639888301},\n",
            "                         'kilometers': {'estimated_diameter_max': 0.3855138443,\n",
            "                                        'estimated_diameter_min': 0.1724070324},\n",
            "                         'meters': {'estimated_diameter_max': 385.5138443284,\n",
            "                                    'estimated_diameter_min': 172.4070324371},\n",
            "                         'miles': {'estimated_diameter_max': 0.239547123,\n",
            "                                   'estimated_diameter_min': 0.1071287302}},\n",
            "  'id': '2508908',\n",
            "  'is_potentially_hazardous_asteroid': True,\n",
            "  'is_sentry_object': False,\n",
            "  'links': {'self': 'http://api.nasa.gov/neo/rest/v1/neo/2508908?api_key=DEMO_KEY'},\n",
            "  'name': '508908 (2003 YX1)',\n",
            "  'nasa_jpl_url': 'http://ssd.jpl.nasa.gov/sbdb.cgi?sstr=2508908',\n",
            "  'neo_reference_id': '2508908'},\n",
            " {'absolute_magnitude_h': 21.3,\n",
            "  'close_approach_data': [{'close_approach_date': '2023-01-09',\n",
            "                           'close_approach_date_full': '2023-Jan-09 07:10',\n",
            "                           'epoch_date_close_approach': 1673248200000,\n",
            "                           'miss_distance': {'astronomical': '0.4928732055',\n",
            "                                             'kilometers': '73732781.722872285',\n",
            "                                             'lunar': '191.7276769395',\n",
            "                                             'miles': '45815426.073056133'},\n",
            "                           'orbiting_body': 'Earth',\n",
            "                           'relative_velocity': {'kilometers_per_hour': '121198.8588141982',\n",
            "                                                 'kilometers_per_second': '33.6663496706',\n",
            "                                                 'miles_per_hour': '75308.2575781889'}}],\n",
            "  'estimated_diameter': {'feet': {'estimated_diameter_max': 1071.581062656,\n",
            "                                  'estimated_diameter_min': 479.2256199},\n",
            "                         'kilometers': {'estimated_diameter_max': 0.3266178974,\n",
            "                                        'estimated_diameter_min': 0.1460679643},\n",
            "                         'meters': {'estimated_diameter_max': 326.6178974458,\n",
            "                                    'estimated_diameter_min': 146.0679642714},\n",
            "                         'miles': {'estimated_diameter_max': 0.2029508896,\n",
            "                                   'estimated_diameter_min': 0.090762397}},\n",
            "  'id': '3014110',\n",
            "  'is_potentially_hazardous_asteroid': True,\n",
            "  'is_sentry_object': False,\n",
            "  'links': {'self': 'http://api.nasa.gov/neo/rest/v1/neo/3014110?api_key=DEMO_KEY'},\n",
            "  'name': '(1998 SU4)',\n",
            "  'nasa_jpl_url': 'http://ssd.jpl.nasa.gov/sbdb.cgi?sstr=3014110',\n",
            "  'neo_reference_id': '3014110'},\n",
            " {'absolute_magnitude_h': 25.2,\n",
            "  'close_approach_data': [{'close_approach_date': '2023-01-09',\n",
            "                           'close_approach_date_full': '2023-Jan-09 23:16',\n",
            "                           'epoch_date_close_approach': 1673306160000,\n",
            "                           'miss_distance': {'astronomical': '0.0850918493',\n",
            "                                             'kilometers': '12729559.409640991',\n",
            "                                             'lunar': '33.1007293777',\n",
            "                                             'miles': '7909781.4357120358'},\n",
            "                           'orbiting_body': 'Earth',\n",
            "                           'relative_velocity': {'kilometers_per_hour': '36346.1238024887',\n",
            "                                                 'kilometers_per_second': '10.0961455007',\n",
            "                                                 'miles_per_hour': '22584.0678704964'}}],\n",
            "  'estimated_diameter': {'feet': {'estimated_diameter_max': 177.8381901842,\n",
            "                                  'estimated_diameter_min': 79.5316564495},\n",
            "                         'kilometers': {'estimated_diameter_max': 0.0542050786,\n",
            "                                        'estimated_diameter_min': 0.0242412481},\n",
            "                         'meters': {'estimated_diameter_max': 54.2050786336,\n",
            "                                    'estimated_diameter_min': 24.2412481101},\n",
            "                         'miles': {'estimated_diameter_max': 0.0336814639,\n",
            "                                   'estimated_diameter_min': 0.0150628086}},\n",
            "  'id': '3559843',\n",
            "  'is_potentially_hazardous_asteroid': False,\n",
            "  'is_sentry_object': False,\n",
            "  'links': {'self': 'http://api.nasa.gov/neo/rest/v1/neo/3559843?api_key=DEMO_KEY'},\n",
            "  'name': '(2011 EP51)',\n",
            "  'nasa_jpl_url': 'http://ssd.jpl.nasa.gov/sbdb.cgi?sstr=3559843',\n",
            "  'neo_reference_id': '3559843'},\n",
            " {'absolute_magnitude_h': 26.9,\n",
            "  'close_approach_data': [{'close_approach_date': '2023-01-09',\n",
            "                           'close_approach_date_full': '2023-Jan-09 14:16',\n",
            "                           'epoch_date_close_approach': 1673273760000,\n",
            "                           'miss_distance': {'astronomical': '0.4272893529',\n",
            "                                             'kilometers': '63921577.067518323',\n",
            "                                             'lunar': '166.2155582781',\n",
            "                                             'miles': '39719026.1940379374'},\n",
            "                           'orbiting_body': 'Earth',\n",
            "                           'relative_velocity': {'kilometers_per_hour': '16576.4865892554',\n",
            "                                                 'kilometers_per_second': '4.6045796081',\n",
            "                                                 'miles_per_hour': '10299.9841254181'}}],\n",
            "  'estimated_diameter': {'feet': {'estimated_diameter_max': 81.2877363957,\n",
            "                                  'estimated_diameter_min': 36.3529808636},\n",
            "                         'kilometers': {'estimated_diameter_max': 0.0247765013,\n",
            "                                        'estimated_diameter_min': 0.0110803882},\n",
            "                         'meters': {'estimated_diameter_max': 24.7765012606,\n",
            "                                    'estimated_diameter_min': 11.0803882126},\n",
            "                         'miles': {'estimated_diameter_max': 0.0153953994,\n",
            "                                   'estimated_diameter_min': 0.0068850319}},\n",
            "  'id': '3789481',\n",
            "  'is_potentially_hazardous_asteroid': False,\n",
            "  'is_sentry_object': False,\n",
            "  'links': {'self': 'http://api.nasa.gov/neo/rest/v1/neo/3789481?api_key=DEMO_KEY'},\n",
            "  'name': '(2017 WU1)',\n",
            "  'nasa_jpl_url': 'http://ssd.jpl.nasa.gov/sbdb.cgi?sstr=3789481',\n",
            "  'neo_reference_id': '3789481'},\n",
            " {'absolute_magnitude_h': 25.4,\n",
            "  'close_approach_data': [{'close_approach_date': '2023-01-09',\n",
            "                           'close_approach_date_full': '2023-Jan-09 04:18',\n",
            "                           'epoch_date_close_approach': 1673237880000,\n",
            "                           'miss_distance': {'astronomical': '0.4741066959',\n",
            "                                             'kilometers': '70925351.859377733',\n",
            "                                             'lunar': '184.4275047051',\n",
            "                                             'miles': '44070970.0473813954'},\n",
            "                           'orbiting_body': 'Earth',\n",
            "                           'relative_velocity': {'kilometers_per_hour': '71419.4248076035',\n",
            "                                                 'kilometers_per_second': '19.8387291132',\n",
            "                                                 'miles_per_hour': '44377.253153369'}}],\n",
            "  'estimated_diameter': {'feet': {'estimated_diameter_max': 162.1903570994,\n",
            "                                  'estimated_diameter_min': 72.5337327539},\n",
            "                         'kilometers': {'estimated_diameter_max': 0.0494356193,\n",
            "                                        'estimated_diameter_min': 0.022108281},\n",
            "                         'meters': {'estimated_diameter_max': 49.435619262,\n",
            "                                    'estimated_diameter_min': 22.1082810359},\n",
            "                         'miles': {'estimated_diameter_max': 0.0307178602,\n",
            "                                   'estimated_diameter_min': 0.0137374447}},\n",
            "  'id': '54054562',\n",
            "  'is_potentially_hazardous_asteroid': False,\n",
            "  'is_sentry_object': False,\n",
            "  'links': {'self': 'http://api.nasa.gov/neo/rest/v1/neo/54054562?api_key=DEMO_KEY'},\n",
            "  'name': '(2020 SA3)',\n",
            "  'nasa_jpl_url': 'http://ssd.jpl.nasa.gov/sbdb.cgi?sstr=54054562',\n",
            "  'neo_reference_id': '54054562'},\n",
            " {'absolute_magnitude_h': 26.1,\n",
            "  'close_approach_data': [{'close_approach_date': '2023-01-09',\n",
            "                           'close_approach_date_full': '2023-Jan-09 14:29',\n",
            "                           'epoch_date_close_approach': 1673274540000,\n",
            "                           'miss_distance': {'astronomical': '0.3334722534',\n",
            "                                             'kilometers': '49886738.812740258',\n",
            "                                             'lunar': '129.7207065726',\n",
            "                                             'miles': '30998182.0934332404'},\n",
            "                           'orbiting_body': 'Earth',\n",
            "                           'relative_velocity': {'kilometers_per_hour': '60765.8145388754',\n",
            "                                                 'kilometers_per_second': '16.8793929275',\n",
            "                                                 'miles_per_hour': '37757.5140394474'}}],\n",
            "  'estimated_diameter': {'feet': {'estimated_diameter_max': 117.4965270602,\n",
            "                                  'estimated_diameter_min': 52.5460443254},\n",
            "                         'kilometers': {'estimated_diameter_max': 0.0358129403,\n",
            "                                        'estimated_diameter_min': 0.0160160338},\n",
            "                         'meters': {'estimated_diameter_max': 35.8129403019,\n",
            "                                    'estimated_diameter_min': 16.0160337979},\n",
            "                         'miles': {'estimated_diameter_max': 0.0222531225,\n",
            "                                   'estimated_diameter_min': 0.0099518989}},\n",
            "  'id': '54104276',\n",
            "  'is_potentially_hazardous_asteroid': False,\n",
            "  'is_sentry_object': False,\n",
            "  'links': {'self': 'http://api.nasa.gov/neo/rest/v1/neo/54104276?api_key=DEMO_KEY'},\n",
            "  'name': '(2021 AA1)',\n",
            "  'nasa_jpl_url': 'http://ssd.jpl.nasa.gov/sbdb.cgi?sstr=54104276',\n",
            "  'neo_reference_id': '54104276'},\n",
            " {'absolute_magnitude_h': 27.2,\n",
            "  'close_approach_data': [{'close_approach_date': '2023-01-09',\n",
            "                           'close_approach_date_full': '2023-Jan-09 14:50',\n",
            "                           'epoch_date_close_approach': 1673275800000,\n",
            "                           'miss_distance': {'astronomical': '0.1503150963',\n",
            "                                             'kilometers': '22486818.235324881',\n",
            "                                             'lunar': '58.4725724607',\n",
            "                                             'miles': '13972660.9305341178'},\n",
            "                           'orbiting_body': 'Earth',\n",
            "                           'relative_velocity': {'kilometers_per_hour': '33590.9419665386',\n",
            "                                                 'kilometers_per_second': '9.3308172129',\n",
            "                                                 'miles_per_hour': '20872.1050235973'}}],\n",
            "  'estimated_diameter': {'feet': {'estimated_diameter_max': 70.7986587106,\n",
            "                                  'estimated_diameter_min': 31.6621227185},\n",
            "                         'kilometers': {'estimated_diameter_max': 0.0215794305,\n",
            "                                        'estimated_diameter_min': 0.0096506147},\n",
            "                         'meters': {'estimated_diameter_max': 21.5794304844,\n",
            "                                    'estimated_diameter_min': 9.6506146958},\n",
            "                         'miles': {'estimated_diameter_max': 0.0134088323,\n",
            "                                   'estimated_diameter_min': 0.0059966121}},\n",
            "  'id': '54130489',\n",
            "  'is_potentially_hazardous_asteroid': False,\n",
            "  'is_sentry_object': False,\n",
            "  'links': {'self': 'http://api.nasa.gov/neo/rest/v1/neo/54130489?api_key=DEMO_KEY'},\n",
            "  'name': '(2021 EP1)',\n",
            "  'nasa_jpl_url': 'http://ssd.jpl.nasa.gov/sbdb.cgi?sstr=54130489',\n",
            "  'neo_reference_id': '54130489'},\n",
            " {'absolute_magnitude_h': 23.39,\n",
            "  'close_approach_data': [{'close_approach_date': '2023-01-09',\n",
            "                           'close_approach_date_full': '2023-Jan-09 23:18',\n",
            "                           'epoch_date_close_approach': 1673306280000,\n",
            "                           'miss_distance': {'astronomical': '0.1990572251',\n",
            "                                             'kilometers': '29778536.883070537',\n",
            "                                             'lunar': '77.4332605639',\n",
            "                                             'miles': '18503524.7992939306'},\n",
            "                           'orbiting_body': 'Earth',\n",
            "                           'relative_velocity': {'kilometers_per_hour': '42454.2341018916',\n",
            "                                                 'kilometers_per_second': '11.7928428061',\n",
            "                                                 'miles_per_hour': '26379.4100729226'}}],\n",
            "  'estimated_diameter': {'feet': {'estimated_diameter_max': 409.2842476221,\n",
            "                                  'estimated_diameter_min': 183.0374799606},\n",
            "                         'kilometers': {'estimated_diameter_max': 0.1247498347,\n",
            "                                        'estimated_diameter_min': 0.0557898221},\n",
            "                         'meters': {'estimated_diameter_max': 124.7498346832,\n",
            "                                    'estimated_diameter_min': 55.7898221067},\n",
            "                         'miles': {'estimated_diameter_max': 0.0775159295,\n",
            "                                   'estimated_diameter_min': 0.0346661776}},\n",
            "  'id': '54174525',\n",
            "  'is_potentially_hazardous_asteroid': False,\n",
            "  'is_sentry_object': False,\n",
            "  'links': {'self': 'http://api.nasa.gov/neo/rest/v1/neo/54174525?api_key=DEMO_KEY'},\n",
            "  'name': '(2021 OZ)',\n",
            "  'nasa_jpl_url': 'http://ssd.jpl.nasa.gov/sbdb.cgi?sstr=54174525',\n",
            "  'neo_reference_id': '54174525'},\n",
            " {'absolute_magnitude_h': 23.52,\n",
            "  'close_approach_data': [{'close_approach_date': '2023-01-09',\n",
            "                           'close_approach_date_full': '2023-Jan-09 05:43',\n",
            "                           'epoch_date_close_approach': 1673242980000,\n",
            "                           'miss_distance': {'astronomical': '0.0364123547',\n",
            "                                             'kilometers': '5447210.704804489',\n",
            "                                             'lunar': '14.1644059783',\n",
            "                                             'miles': '3384739.7794963882'},\n",
            "                           'orbiting_body': 'Earth',\n",
            "                           'relative_velocity': {'kilometers_per_hour': '30422.2576098078',\n",
            "                                                 'kilometers_per_second': '8.4506271138',\n",
            "                                                 'miles_per_hour': '18903.2077909387'}}],\n",
            "  'estimated_diameter': {'feet': {'estimated_diameter_max': 385.500574856,\n",
            "                                  'estimated_diameter_min': 172.4010981486},\n",
            "                         'kilometers': {'estimated_diameter_max': 0.1175005715,\n",
            "                                        'estimated_diameter_min': 0.052547853},\n",
            "                         'meters': {'estimated_diameter_max': 117.5005714561,\n",
            "                                    'estimated_diameter_min': 52.5478530342},\n",
            "                         'miles': {'estimated_diameter_max': 0.0730114476,\n",
            "                                   'estimated_diameter_min': 0.032651712}},\n",
            "  'id': '54201812',\n",
            "  'is_potentially_hazardous_asteroid': False,\n",
            "  'is_sentry_object': False,\n",
            "  'links': {'self': 'http://api.nasa.gov/neo/rest/v1/neo/54201812?api_key=DEMO_KEY'},\n",
            "  'name': '(2021 TL)',\n",
            "  'nasa_jpl_url': 'http://ssd.jpl.nasa.gov/sbdb.cgi?sstr=54201812',\n",
            "  'neo_reference_id': '54201812'}]\n"
          ]
        }
      ],
      "source": [
        "API_KEY = 'DEMO_KEY'  # substitute your API key here\n",
        "\n",
        "today = '2023-01-09'  #  Future enhancement:  str(datetime.date.today())   # Today's date as a string!\n",
        "# Use an f-string here to \"format\" the date and API key varaibles.\n",
        "url = f'https://api.nasa.gov/neo/rest/v1/feed?start_date={today}&end_date={today}&api_key={API_KEY}'\n",
        "\n",
        "response = requests.request(\"GET\", url, headers={}, data={})\n",
        "\n",
        "data = json.loads(response.text)  # recall json.loads for lab 1\n",
        "\n",
        "# TIP: print(data) to see the whole data structure returned, here we grab just the list of NEO's:\n",
        "n_results = data['element_count']\n",
        "neos = data['near_earth_objects'][today]\n",
        "print(f'{n_results} Near Earth Objects found for {today}')\n",
        "pprint(neos)"
      ],
      "metadata": {
        "pycharm": {
          "name": "#%%\n"
        },
        "id": "rJbOHMxDwED_",
        "colab": {
          "base_uri": "https://localhost:8080/"
        },
        "outputId": "2b7a8498-cca7-443d-f787-e1fd44bf1856"
      }
    },
    {
      "cell_type": "markdown",
      "source": [
        "Next we extract just the potentially hazerdous asteroids, using a Comp115-style list accumulator *loop*:"
      ],
      "metadata": {
        "collapsed": false,
        "pycharm": {
          "name": "#%% md\n"
        },
        "id": "Jl5Z0OV0wEEA"
      }
    },
    {
      "cell_type": "markdown",
      "source": [
        "## Exercise 1\n",
        "\n",
        "In the code cell below, **re-write the accumulator loop above** as a [list comprehension](https://realpython.com/lessons/list-comprehensions-overview/) that implements a [\"filter\"](https://youtu.be/hUes6y2b--0)\n",
        "Notice how this provides a concise way to \"filter\" items of interest from a larger data set."
      ],
      "metadata": {
        "collapsed": false,
        "pycharm": {
          "name": "#%% md\n"
        },
        "id": "1OIBi_iLwEEB"
      }
    },
    {
      "cell_type": "code",
      "execution_count": 5,
      "outputs": [
        {
          "output_type": "stream",
          "name": "stdout",
          "text": [
            "3 potentially hazardous asteroids identified.\n"
          ]
        }
      ],
      "source": [
        "hazards = [item for item in neos if item['is_potentially_hazardous_asteroid']]\n",
        "print(f'{len(hazards)} potentially hazardous asteroids identified.')"
      ],
      "metadata": {
        "pycharm": {
          "name": "#%%\n"
        },
        "id": "BHUSwivowEEB",
        "outputId": "b3c37f2f-8f42-4ee4-cac3-8864504e7cba",
        "colab": {
          "base_uri": "https://localhost:8080/"
        }
      }
    },
    {
      "cell_type": "markdown",
      "source": [
        "## Fetch Complete Data for One Asteroid\n",
        "\n",
        "Notice that the record for each `neo` is a dictionary with `id` field that uniquely identifies this record in the database.\n",
        "\n",
        "We can use this `id` to fetch complete orbital and close approach data for the NEO.\n",
        "\n",
        "For example, this query fetches the complete data set for the first hazardous asteroid...\n"
      ],
      "metadata": {
        "collapsed": false,
        "pycharm": {
          "name": "#%% md\n"
        },
        "id": "vF1TeAW2wEEB"
      }
    },
    {
      "cell_type": "code",
      "execution_count": null,
      "outputs": [],
      "source": [
        "id = hazards[0]['id']\n",
        "url = f'https://api.nasa.gov/neo/rest/v1/neo/{id}/?api_key={API_KEY}'\n",
        "response = requests.request(\"GET\", url, headers={}, data={})\n",
        "data = json.loads(response.text)\n",
        "\n",
        "pprint(data)"
      ],
      "metadata": {
        "pycharm": {
          "name": "#%%\n"
        },
        "id": "yjQzZwrywEEC"
      }
    },
    {
      "cell_type": "markdown",
      "source": [
        "Notice that the `miss_distance` field contains the distance (in various units) by which the NEO missed an \"orbiting body\".\n",
        "\n",
        "## Exercise 2\n",
        "\n",
        "In the code cell below, write a python function that takes a list of \"close approach data\" as a parameter,\n",
        "and returns a 2-tuple with the (date, miss km) of the closest approach to Earth in the list (where \"miss km\" is the miss distance in km).\n",
        "\n",
        "Hints:\n",
        "* notice the input is a list of dictionaries.  Each dictionary has a 'close_approach_date\", \"orbiting_body\", and 'miss_distance' field.\n",
        "* we are only interested in the closest approach to \"Earth\"\n",
        "* use a loop if that is easier to understand - we will look at more compact algorithms to solve this problem in class.\n",
        "\n",
        "Add at least one unit test to check your work - note the test data only needs dictionaries with the fields your function actually uses.\n"
      ],
      "metadata": {
        "id": "DNRs7ynOYwYk"
      }
    },
    {
      "cell_type": "code",
      "source": [
        "def get_nearest_miss(data_set, today=today):\n",
        "  dates_dists = [(obj['close_approach_date'], obj['miss_distance']['kilometers']) for obj in data_set['close_approach_data']]\n",
        "  return sorted(dates_dists)[0]"
      ],
      "metadata": {
        "id": "dFBHSNC8ityF"
      },
      "execution_count": 17,
      "outputs": []
    },
    {
      "cell_type": "markdown",
      "source": [
        "#**Lab 3 Work Below**"
      ],
      "metadata": {
        "id": "g2aBjcyQ-Tku"
      }
    },
    {
      "cell_type": "markdown",
      "source": [
        "In the instructions you said \"*This method also takes an Asteroid object as\n",
        "input – the Asteroid to which the close approach data belongs*\" referring to the CloseApproach classmethod. I feel like you were looking for something different than what I did, but I wasn't sure how to go about including the asteroid object in the CloseApproach class since the Asteroid and the CloseApproach Classes reference eachother so in order to build one you have to have the other already built. I also think I may have misunderstood what you were looking for.\n",
        "\n",
        "This is what I came up with as a solution. Accessing the asteroid object through the closeapproach data like this: `Asteroid.close_approaches[list_index].asteroid` will return a corresponding asteroid object but with an empty `close_approaches` list."
      ],
      "metadata": {
        "id": "hTKEj93s7Po3"
      }
    },
    {
      "cell_type": "code",
      "source": [
        "from dataclasses import dataclass\n",
        "@dataclass\n",
        "class Asteroid:\n",
        "  id: int\n",
        "  name: str\n",
        "  estimated_diameter: float\n",
        "  potential_hazard: bool\n",
        "  close_approaches: list\n",
        "\n",
        "  @classmethod\n",
        "  def from_NEO(cls, neo_id):\n",
        "\n",
        "    url = f'https://api.nasa.gov/neo/rest/v1/neo/{str(neo_id)}?api_key=DEMO_KEY'\n",
        "    response = requests.request(\"GET\", url, headers={}, data={})\n",
        "    asteroid_data = json.loads(response.text)\n",
        "\n",
        "    id = int(neo_id)\n",
        "    name = asteroid_data['name']\n",
        "    estimated_diameter = asteroid_data['estimated_diameter']['kilometers']\n",
        "    potential_hazard = asteroid_data['is_potentially_hazardous_asteroid']\n",
        "    asteroid_obj = Asteroid(id, name, estimated_diameter, potential_hazard, [])\n",
        "    close_approaches = [CloseApproach.from_record(record, asteroid_obj) for record in asteroid_data['close_approach_data']]\n",
        "    return Asteroid(id, name, estimated_diameter, potential_hazard, close_approaches)"
      ],
      "metadata": {
        "id": "FnWd0PgWvNxQ"
      },
      "execution_count": 80,
      "outputs": []
    },
    {
      "cell_type": "code",
      "source": [
        "@dataclass\n",
        "class CloseApproach:\n",
        "  asteroid: Asteroid\n",
        "  orbiting_body: str\n",
        "  approach_date: datetime.datetime\n",
        "  miss_distance: float #miss_distance in km\n",
        "  relative_velocity: float #relative velocity in km/h\n",
        "\n",
        "  @classmethod\n",
        "  def from_record(cls, record, asteroid_obj):\n",
        "    asteroid = asteroid_obj\n",
        "    orbiting_body = record['orbiting_body']\n",
        "    approach_date = datetime.datetime.strptime(record['close_approach_date'], '%Y-%m-%d')\n",
        "    miss_distance = record['miss_distance']['kilometers']\n",
        "    relative_velocity = record['relative_velocity']['kilometers_per_hour']\n",
        "    return CloseApproach(asteroid, orbiting_body, approach_date, miss_distance, relative_velocity)"
      ],
      "metadata": {
        "id": "QNPyoOqcu_C8"
      },
      "execution_count": 74,
      "outputs": []
    },
    {
      "cell_type": "code",
      "source": [
        "trial = Asteroid.from_NEO(data['id'])\n",
        "trial.potential_hazard"
      ],
      "metadata": {
        "colab": {
          "base_uri": "https://localhost:8080/"
        },
        "id": "X2zenF-a1KwG",
        "outputId": "50a53068-e537-490f-9fff-b061a16e4201"
      },
      "execution_count": 86,
      "outputs": [
        {
          "output_type": "execute_result",
          "data": {
            "text/plain": [
              "True"
            ]
          },
          "metadata": {},
          "execution_count": 86
        }
      ]
    },
    {
      "cell_type": "code",
      "source": [
        "trial.close_approaches[0].asteroid.close_approaches"
      ],
      "metadata": {
        "colab": {
          "base_uri": "https://localhost:8080/"
        },
        "id": "gtxrcXN05jbP",
        "outputId": "f48d9ac1-c1e3-45ce-e44e-ab9d8a218a83"
      },
      "execution_count": 84,
      "outputs": [
        {
          "output_type": "execute_result",
          "data": {
            "text/plain": [
              "[]"
            ]
          },
          "metadata": {},
          "execution_count": 84
        }
      ]
    }
  ]
}